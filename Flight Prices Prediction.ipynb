{
 "cells": [
  {
   "cell_type": "markdown",
   "metadata": {},
   "source": [
    "# Imports"
   ]
  },
  {
   "cell_type": "code",
   "execution_count": 1,
   "metadata": {},
   "outputs": [],
   "source": [
    "import numpy as np\n",
    "import pandas as pd\n",
    "import matplotlib.pyplot as plt\n",
    "import seaborn as sns\n",
    "from scipy import stats\n",
    "from scipy.stats import norm, skew\n",
    "from sklearn.linear_model import LinearRegression\n",
    "from sklearn.model_selection import KFold, cross_val_score, cross_val_predict, train_test_split, GridSearchCV\n",
    "from sklearn.preprocessing import RobustScaler, LabelEncoder\n",
    "from sklearn.pipeline import make_pipeline\n",
    "from mlxtend.regressor import StackingCVRegressor\n",
    "from xgboost import XGBRegressor\n",
    "from lightgbm import LGBMRegressor\n",
    "from datetime import datetime\n",
    "seed = 343\n",
    "kfolds = KFold(n_splits=4, shuffle=True, random_state=seed)"
   ]
  },
  {
   "cell_type": "code",
   "execution_count": 2,
   "metadata": {},
   "outputs": [],
   "source": [
    "# Useful Functions\n",
    "def cv_rmse(model, x, y):\n",
    "    rmse = np.sqrt(-cross_val_score(model, x, y,\n",
    "                                    scoring=\"neg_mean_squared_error\",\n",
    "                                    cv=kfolds))\n",
    "    return rmse\n",
    "\n",
    "def get_total_minutes(td):\n",
    "    hours, minutes = map(int, td.split(':'))\n",
    "    return hours * 60 + minutes"
   ]
  },
  {
   "cell_type": "markdown",
   "metadata": {},
   "source": [
    "# Preprocessing"
   ]
  },
  {
   "cell_type": "code",
   "execution_count": 3,
   "metadata": {},
   "outputs": [],
   "source": [
    "base_df = pd.read_csv(\"flights.csv\")\n",
    "\n",
    "# Label Encoder (proper way to handle Categorical Data)\n",
    "lb_encode = LabelEncoder()\n",
    "categorical_variables = ['AirlineName', 'AirportDest', 'AirportOrig']\n",
    "for i in categorical_variables:\n",
    "    base_df[i] = lb_encode.fit_transform(base_df[i])\n",
    "    \n",
    "# Handle date and time variables\n",
    "date_variables = ['ArrTime', 'DepTime']\n",
    "for i in date_variables:\n",
    "    base_df[i] = np.array([datetime.strptime(d, \"%Y/%m/%d-%H:%M\").timestamp() for d in base_df[i]])\n",
    "base_df['FlightDuration'] = np.array([get_total_minutes(td) for td in base_df['FlightDuration']])\n",
    "\n",
    "train_df, test_df = train_test_split(base_df, test_size=0.2)\n",
    "train_x, train_y = train_df.drop(['Price'], axis=1), train_df.Price\n",
    "test_df = test_df.drop(['Price'], axis=1)"
   ]
  },
  {
   "cell_type": "markdown",
   "metadata": {},
   "source": [
    "# Linear Regression"
   ]
  },
  {
   "cell_type": "code",
   "execution_count": 4,
   "metadata": {},
   "outputs": [
    {
     "data": {
      "text/plain": [
       "774.1159301167121"
      ]
     },
     "execution_count": 4,
     "metadata": {},
     "output_type": "execute_result"
    }
   ],
   "source": [
    "lr = LinearRegression()\n",
    "linear_regression_model = make_pipeline(RobustScaler(), lr).fit(train_x, train_y)\n",
    "cv_rmse(linear_regression_model, train_x, train_y).mean()"
   ]
  },
  {
   "cell_type": "markdown",
   "metadata": {},
   "source": [
    "# XGBoost"
   ]
  },
  {
   "cell_type": "code",
   "execution_count": 5,
   "metadata": {},
   "outputs": [
    {
     "name": "stderr",
     "output_type": "stream",
     "text": [
      "c:\\users\\nelson gomes neto\\appdata\\local\\programs\\python\\python37\\lib\\site-packages\\xgboost\\core.py:587: FutureWarning: Series.base is deprecated and will be removed in a future version\n",
      "  if getattr(data, 'base', None) is not None and \\\n",
      "c:\\users\\nelson gomes neto\\appdata\\local\\programs\\python\\python37\\lib\\site-packages\\xgboost\\core.py:587: FutureWarning: Series.base is deprecated and will be removed in a future version\n",
      "  if getattr(data, 'base', None) is not None and \\\n",
      "c:\\users\\nelson gomes neto\\appdata\\local\\programs\\python\\python37\\lib\\site-packages\\xgboost\\core.py:587: FutureWarning: Series.base is deprecated and will be removed in a future version\n",
      "  if getattr(data, 'base', None) is not None and \\\n",
      "c:\\users\\nelson gomes neto\\appdata\\local\\programs\\python\\python37\\lib\\site-packages\\xgboost\\core.py:587: FutureWarning: Series.base is deprecated and will be removed in a future version\n",
      "  if getattr(data, 'base', None) is not None and \\\n"
     ]
    },
    {
     "data": {
      "text/plain": [
       "322.32832823610966"
      ]
     },
     "execution_count": 5,
     "metadata": {},
     "output_type": "execute_result"
    }
   ],
   "source": [
    "xgb = XGBRegressor(learning_rate=0.1, n_estimators=200, max_depth=10,\n",
    "                   min_child_weight=6, gamma=0, subsample=0.7,\n",
    "                   colsample_bytree=0.8, objective='reg:squarederror',\n",
    "                   nthread=4, scale_pos_weight=1, seed=seed, reg_alpha=0.00006)\n",
    "cv_rmse(xgb, train_x, train_y).mean()"
   ]
  },
  {
   "cell_type": "markdown",
   "metadata": {},
   "source": [
    "# LightGBM"
   ]
  },
  {
   "cell_type": "code",
   "execution_count": 6,
   "metadata": {
    "scrolled": true
   },
   "outputs": [
    {
     "data": {
      "text/plain": [
       "383.95747265396005"
      ]
     },
     "execution_count": 6,
     "metadata": {},
     "output_type": "execute_result"
    }
   ],
   "source": [
    "lightgbm_model = LGBMRegressor(objective='regression', num_leaves=5,\n",
    "                               learning_rate=0.05, n_estimators=8020,\n",
    "                               max_bin=100, bagging_fraction=0.8,\n",
    "                               feature_fraction_seed=343, bagging_seed=343,\n",
    "                               min_data_in_leaf=6, min_sum_hessian_in_leaf=11)\n",
    "cv_rmse(lightgbm_model, train_x, train_y).mean()"
   ]
  },
  {
   "cell_type": "markdown",
   "metadata": {},
   "source": [
    "# Stacking"
   ]
  },
  {
   "cell_type": "code",
   "execution_count": 7,
   "metadata": {},
   "outputs": [
    {
     "data": {
      "text/plain": [
       "320.4849081763634"
      ]
     },
     "execution_count": 7,
     "metadata": {},
     "output_type": "execute_result"
    }
   ],
   "source": [
    "linear_regression_pipeline = make_pipeline(RobustScaler(),\n",
    "                                           LinearRegression())\n",
    "xgboost_pipeline = make_pipeline(RobustScaler(),\n",
    "                                 XGBRegressor(learning_rate=0.1, n_estimators=200, max_depth=10,\n",
    "                                              min_child_weight=6, gamma=0, subsample=0.7,\n",
    "                                              colsample_bytree=0.8, objective='reg:squarederror',\n",
    "                                              nthread=4, scale_pos_weight=1, seed=seed, reg_alpha=0.00006))\n",
    "lightgbm_pipeline = make_pipeline(RobustScaler(),\n",
    "                                  LGBMRegressor(objective='regression', num_leaves=5,\n",
    "                                                learning_rate=0.05, n_estimators=8020,\n",
    "                                                max_bin=100, bagging_fraction=0.8,\n",
    "                                                feature_fraction_seed=343, bagging_seed=343,\n",
    "                                                min_data_in_leaf=6, min_sum_hessian_in_leaf=11))\n",
    "\n",
    "stack_gen = StackingCVRegressor(regressors=(linear_regression_pipeline, xgboost_pipeline, lightgbm_pipeline),\n",
    "                                meta_regressor=xgboost_pipeline,\n",
    "                                use_features_in_secondary=True)\n",
    "cv_rmse(stack_gen, train_x, train_y).mean()"
   ]
  }
 ],
 "metadata": {
  "kernelspec": {
   "display_name": "Python 3",
   "language": "python",
   "name": "python3"
  },
  "language_info": {
   "codemirror_mode": {
    "name": "ipython",
    "version": 3
   },
   "file_extension": ".py",
   "mimetype": "text/x-python",
   "name": "python",
   "nbconvert_exporter": "python",
   "pygments_lexer": "ipython3",
   "version": "3.7.4"
  }
 },
 "nbformat": 4,
 "nbformat_minor": 2
}
