{
 "cells": [
  {
   "cell_type": "markdown",
   "metadata": {},
   "source": [
    "# Imports"
   ]
  },
  {
   "cell_type": "code",
   "execution_count": 33,
   "metadata": {},
   "outputs": [],
   "source": [
    "import numpy as np\n",
    "import pandas as pd\n",
    "import matplotlib.pyplot as plt\n",
    "import seaborn as sns\n",
    "from scipy import stats\n",
    "from scipy.stats import norm, skew\n",
    "from sklearn.linear_model import LinearRegression\n",
    "from sklearn.model_selection import KFold, cross_val_score, cross_val_predict, train_test_split\n",
    "from sklearn.preprocessing import RobustScaler, LabelEncoder\n",
    "from sklearn.pipeline import make_pipeline\n",
    "from datetime import datetime\n",
    "seed = 343"
   ]
  },
  {
   "cell_type": "code",
   "execution_count": 45,
   "metadata": {},
   "outputs": [],
   "source": [
    "# Useful Functions\n",
    "def cv_rmse(model, x, y, kfolds):\n",
    "    rmse = np.sqrt(-cross_val_score(model, x, y,\n",
    "                                    scoring=\"neg_mean_squared_error\",\n",
    "                                    cv=kfolds))\n",
    "    return rmse\n",
    "\n",
    "def get_total_minutes(td):\n",
    "    hours, minutes = map(int, td.split(':'))\n",
    "    return hours * 60 + minutes"
   ]
  },
  {
   "cell_type": "markdown",
   "metadata": {},
   "source": [
    "# Preprocessing"
   ]
  },
  {
   "cell_type": "code",
   "execution_count": 46,
   "metadata": {},
   "outputs": [],
   "source": [
    "base_df = pd.read_csv(\"flights.csv\")\n",
    "\n",
    "# Label Encoder (proper way to handle Categorical Data)\n",
    "lb_encode = LabelEncoder()\n",
    "categorical_variables = ['AirlineName', 'AirportDest', 'AirportOrig']\n",
    "for i in categorical_variables:\n",
    "    base_df[i] = lb_encode.fit_transform(base_df[i])\n",
    "    \n",
    "# Handle date and time variables\n",
    "date_variables = ['ArrTime', 'DepTime']\n",
    "for i in date_variables:\n",
    "    base_df[i] = np.array([datetime.strptime(d, \"%Y/%m/%d-%H:%M\").timestamp() for d in base_df[i]])\n",
    "base_df['FlightDuration'] = np.array([get_total_minutes(td) for td in base_df['FlightDuration']])\n",
    "\n",
    "train_df, test_df = train_test_split(base_df, test_size=0.2)\n",
    "train_x, train_y = train_df.drop(['Price'], axis=1), train_df.Price\n",
    "test_df = test_df.drop(['Price'], axis=1)"
   ]
  },
  {
   "cell_type": "markdown",
   "metadata": {},
   "source": [
    "# Linear Regression"
   ]
  },
  {
   "cell_type": "code",
   "execution_count": 49,
   "metadata": {},
   "outputs": [
    {
     "data": {
      "text/plain": [
       "778.9261502833601"
      ]
     },
     "execution_count": 49,
     "metadata": {},
     "output_type": "execute_result"
    }
   ],
   "source": [
    "lr = LinearRegression()\n",
    "kfolds = KFold(n_splits=50, shuffle=True, random_state=seed)\n",
    "benchmark_model = make_pipeline(RobustScaler(), lr).fit(train_x, train_y)\n",
    "cv_rmse(benchmark_model, train_x, train_y, kfolds).mean()"
   ]
  }
 ],
 "metadata": {
  "kernelspec": {
   "display_name": "Python 3",
   "language": "python",
   "name": "python3"
  },
  "language_info": {
   "codemirror_mode": {
    "name": "ipython",
    "version": 3
   },
   "file_extension": ".py",
   "mimetype": "text/x-python",
   "name": "python",
   "nbconvert_exporter": "python",
   "pygments_lexer": "ipython3",
   "version": "3.7.4"
  }
 },
 "nbformat": 4,
 "nbformat_minor": 2
}
